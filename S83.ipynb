{
  "cells": [
    {
      "cell_type": "markdown",
      "metadata": {
        "id": "v-AaVsDdPP2K"
      },
      "source": [
        "#BiLSTM with CNN"
      ]
    },
    {
      "cell_type": "markdown",
      "source": [
        "#1. Install and Import Dependincies"
      ],
      "metadata": {
        "id": "rav8qO8cRE94"
      }
    },
    {
      "cell_type": "code",
      "execution_count": null,
      "metadata": {
        "id": "G0w3J6zp9DPJ"
      },
      "outputs": [],
      "source": [
        "import pandas as pd\n",
        "import numpy as np\n",
        "import matplotlib.pyplot as plt\n",
        "import tensorflow as tf\n",
        "import keras\n",
        "from sklearn.model_selection import train_test_split"
      ]
    },
    {
      "cell_type": "code",
      "execution_count": null,
      "metadata": {
        "id": "Dn1fBsXl9NNt",
        "colab": {
          "base_uri": "https://localhost:8080/",
          "height": 217
        },
        "outputId": "5c401692-2d68-4ce8-ca82-ccb422dbb550"
      },
      "outputs": [
        {
          "output_type": "error",
          "ename": "UnicodeDecodeError",
          "evalue": "'charmap' codec can't decode byte 0x8d in position 663: character maps to <undefined>",
          "traceback": [
            "\u001b[0;31m---------------------------------------------------------------------------\u001b[0m",
            "\u001b[0;31mUnicodeDecodeError\u001b[0m                        Traceback (most recent call last)",
            "\u001b[0;32m<ipython-input-4-76c266ca4f3d>\u001b[0m in \u001b[0;36m<cell line: 1>\u001b[0;34m()\u001b[0m\n\u001b[0;32m----> 1\u001b[0;31m \u001b[0mdata\u001b[0m\u001b[0;34m=\u001b[0m\u001b[0mpd\u001b[0m\u001b[0;34m.\u001b[0m\u001b[0mread_csv\u001b[0m\u001b[0;34m(\u001b[0m\u001b[0;34m'/content/Reviews.xlsx'\u001b[0m\u001b[0;34m,\u001b[0m\u001b[0mencoding\u001b[0m\u001b[0;34m=\u001b[0m\u001b[0;34m'cp1252'\u001b[0m\u001b[0;34m)\u001b[0m\u001b[0;34m\u001b[0m\u001b[0;34m\u001b[0m\u001b[0m\n\u001b[0m\u001b[1;32m      2\u001b[0m \u001b[0mdata\u001b[0m\u001b[0;34m.\u001b[0m\u001b[0mhead\u001b[0m\u001b[0;34m(\u001b[0m\u001b[0;34m)\u001b[0m\u001b[0;34m\u001b[0m\u001b[0;34m\u001b[0m\u001b[0m\n",
            "\u001b[0;32m/usr/local/lib/python3.10/dist-packages/pandas/io/parsers/readers.py\u001b[0m in \u001b[0;36mread_csv\u001b[0;34m(filepath_or_buffer, sep, delimiter, header, names, index_col, usecols, dtype, engine, converters, true_values, false_values, skipinitialspace, skiprows, skipfooter, nrows, na_values, keep_default_na, na_filter, verbose, skip_blank_lines, parse_dates, infer_datetime_format, keep_date_col, date_parser, date_format, dayfirst, cache_dates, iterator, chunksize, compression, thousands, decimal, lineterminator, quotechar, quoting, doublequote, escapechar, comment, encoding, encoding_errors, dialect, on_bad_lines, delim_whitespace, low_memory, memory_map, float_precision, storage_options, dtype_backend)\u001b[0m\n\u001b[1;32m    910\u001b[0m     \u001b[0mkwds\u001b[0m\u001b[0;34m.\u001b[0m\u001b[0mupdate\u001b[0m\u001b[0;34m(\u001b[0m\u001b[0mkwds_defaults\u001b[0m\u001b[0;34m)\u001b[0m\u001b[0;34m\u001b[0m\u001b[0;34m\u001b[0m\u001b[0m\n\u001b[1;32m    911\u001b[0m \u001b[0;34m\u001b[0m\u001b[0m\n\u001b[0;32m--> 912\u001b[0;31m     \u001b[0;32mreturn\u001b[0m \u001b[0m_read\u001b[0m\u001b[0;34m(\u001b[0m\u001b[0mfilepath_or_buffer\u001b[0m\u001b[0;34m,\u001b[0m \u001b[0mkwds\u001b[0m\u001b[0;34m)\u001b[0m\u001b[0;34m\u001b[0m\u001b[0;34m\u001b[0m\u001b[0m\n\u001b[0m\u001b[1;32m    913\u001b[0m \u001b[0;34m\u001b[0m\u001b[0m\n\u001b[1;32m    914\u001b[0m \u001b[0;34m\u001b[0m\u001b[0m\n",
            "\u001b[0;32m/usr/local/lib/python3.10/dist-packages/pandas/io/parsers/readers.py\u001b[0m in \u001b[0;36m_read\u001b[0;34m(filepath_or_buffer, kwds)\u001b[0m\n\u001b[1;32m    575\u001b[0m \u001b[0;34m\u001b[0m\u001b[0m\n\u001b[1;32m    576\u001b[0m     \u001b[0;31m# Create the parser.\u001b[0m\u001b[0;34m\u001b[0m\u001b[0;34m\u001b[0m\u001b[0m\n\u001b[0;32m--> 577\u001b[0;31m     \u001b[0mparser\u001b[0m \u001b[0;34m=\u001b[0m \u001b[0mTextFileReader\u001b[0m\u001b[0;34m(\u001b[0m\u001b[0mfilepath_or_buffer\u001b[0m\u001b[0;34m,\u001b[0m \u001b[0;34m**\u001b[0m\u001b[0mkwds\u001b[0m\u001b[0;34m)\u001b[0m\u001b[0;34m\u001b[0m\u001b[0;34m\u001b[0m\u001b[0m\n\u001b[0m\u001b[1;32m    578\u001b[0m \u001b[0;34m\u001b[0m\u001b[0m\n\u001b[1;32m    579\u001b[0m     \u001b[0;32mif\u001b[0m \u001b[0mchunksize\u001b[0m \u001b[0;32mor\u001b[0m \u001b[0miterator\u001b[0m\u001b[0;34m:\u001b[0m\u001b[0;34m\u001b[0m\u001b[0;34m\u001b[0m\u001b[0m\n",
            "\u001b[0;32m/usr/local/lib/python3.10/dist-packages/pandas/io/parsers/readers.py\u001b[0m in \u001b[0;36m__init__\u001b[0;34m(self, f, engine, **kwds)\u001b[0m\n\u001b[1;32m   1405\u001b[0m \u001b[0;34m\u001b[0m\u001b[0m\n\u001b[1;32m   1406\u001b[0m         \u001b[0mself\u001b[0m\u001b[0;34m.\u001b[0m\u001b[0mhandles\u001b[0m\u001b[0;34m:\u001b[0m \u001b[0mIOHandles\u001b[0m \u001b[0;34m|\u001b[0m \u001b[0;32mNone\u001b[0m \u001b[0;34m=\u001b[0m \u001b[0;32mNone\u001b[0m\u001b[0;34m\u001b[0m\u001b[0;34m\u001b[0m\u001b[0m\n\u001b[0;32m-> 1407\u001b[0;31m         \u001b[0mself\u001b[0m\u001b[0;34m.\u001b[0m\u001b[0m_engine\u001b[0m \u001b[0;34m=\u001b[0m \u001b[0mself\u001b[0m\u001b[0;34m.\u001b[0m\u001b[0m_make_engine\u001b[0m\u001b[0;34m(\u001b[0m\u001b[0mf\u001b[0m\u001b[0;34m,\u001b[0m \u001b[0mself\u001b[0m\u001b[0;34m.\u001b[0m\u001b[0mengine\u001b[0m\u001b[0;34m)\u001b[0m\u001b[0;34m\u001b[0m\u001b[0;34m\u001b[0m\u001b[0m\n\u001b[0m\u001b[1;32m   1408\u001b[0m \u001b[0;34m\u001b[0m\u001b[0m\n\u001b[1;32m   1409\u001b[0m     \u001b[0;32mdef\u001b[0m \u001b[0mclose\u001b[0m\u001b[0;34m(\u001b[0m\u001b[0mself\u001b[0m\u001b[0;34m)\u001b[0m \u001b[0;34m->\u001b[0m \u001b[0;32mNone\u001b[0m\u001b[0;34m:\u001b[0m\u001b[0;34m\u001b[0m\u001b[0;34m\u001b[0m\u001b[0m\n",
            "\u001b[0;32m/usr/local/lib/python3.10/dist-packages/pandas/io/parsers/readers.py\u001b[0m in \u001b[0;36m_make_engine\u001b[0;34m(self, f, engine)\u001b[0m\n\u001b[1;32m   1677\u001b[0m \u001b[0;34m\u001b[0m\u001b[0m\n\u001b[1;32m   1678\u001b[0m         \u001b[0;32mtry\u001b[0m\u001b[0;34m:\u001b[0m\u001b[0;34m\u001b[0m\u001b[0;34m\u001b[0m\u001b[0m\n\u001b[0;32m-> 1679\u001b[0;31m             \u001b[0;32mreturn\u001b[0m \u001b[0mmapping\u001b[0m\u001b[0;34m[\u001b[0m\u001b[0mengine\u001b[0m\u001b[0;34m]\u001b[0m\u001b[0;34m(\u001b[0m\u001b[0mf\u001b[0m\u001b[0;34m,\u001b[0m \u001b[0;34m**\u001b[0m\u001b[0mself\u001b[0m\u001b[0;34m.\u001b[0m\u001b[0moptions\u001b[0m\u001b[0;34m)\u001b[0m\u001b[0;34m\u001b[0m\u001b[0;34m\u001b[0m\u001b[0m\n\u001b[0m\u001b[1;32m   1680\u001b[0m         \u001b[0;32mexcept\u001b[0m \u001b[0mException\u001b[0m\u001b[0;34m:\u001b[0m\u001b[0;34m\u001b[0m\u001b[0;34m\u001b[0m\u001b[0m\n\u001b[1;32m   1681\u001b[0m             \u001b[0;32mif\u001b[0m \u001b[0mself\u001b[0m\u001b[0;34m.\u001b[0m\u001b[0mhandles\u001b[0m \u001b[0;32mis\u001b[0m \u001b[0;32mnot\u001b[0m \u001b[0;32mNone\u001b[0m\u001b[0;34m:\u001b[0m\u001b[0;34m\u001b[0m\u001b[0;34m\u001b[0m\u001b[0m\n",
            "\u001b[0;32m/usr/local/lib/python3.10/dist-packages/pandas/io/parsers/c_parser_wrapper.py\u001b[0m in \u001b[0;36m__init__\u001b[0;34m(self, src, **kwds)\u001b[0m\n\u001b[1;32m     91\u001b[0m             \u001b[0;31m# Fail here loudly instead of in cython after reading\u001b[0m\u001b[0;34m\u001b[0m\u001b[0;34m\u001b[0m\u001b[0m\n\u001b[1;32m     92\u001b[0m             \u001b[0mimport_optional_dependency\u001b[0m\u001b[0;34m(\u001b[0m\u001b[0;34m\"pyarrow\"\u001b[0m\u001b[0;34m)\u001b[0m\u001b[0;34m\u001b[0m\u001b[0;34m\u001b[0m\u001b[0m\n\u001b[0;32m---> 93\u001b[0;31m         \u001b[0mself\u001b[0m\u001b[0;34m.\u001b[0m\u001b[0m_reader\u001b[0m \u001b[0;34m=\u001b[0m \u001b[0mparsers\u001b[0m\u001b[0;34m.\u001b[0m\u001b[0mTextReader\u001b[0m\u001b[0;34m(\u001b[0m\u001b[0msrc\u001b[0m\u001b[0;34m,\u001b[0m \u001b[0;34m**\u001b[0m\u001b[0mkwds\u001b[0m\u001b[0;34m)\u001b[0m\u001b[0;34m\u001b[0m\u001b[0;34m\u001b[0m\u001b[0m\n\u001b[0m\u001b[1;32m     94\u001b[0m \u001b[0;34m\u001b[0m\u001b[0m\n\u001b[1;32m     95\u001b[0m         \u001b[0mself\u001b[0m\u001b[0;34m.\u001b[0m\u001b[0munnamed_cols\u001b[0m \u001b[0;34m=\u001b[0m \u001b[0mself\u001b[0m\u001b[0;34m.\u001b[0m\u001b[0m_reader\u001b[0m\u001b[0;34m.\u001b[0m\u001b[0munnamed_cols\u001b[0m\u001b[0;34m\u001b[0m\u001b[0;34m\u001b[0m\u001b[0m\n",
            "\u001b[0;32m/usr/local/lib/python3.10/dist-packages/pandas/_libs/parsers.pyx\u001b[0m in \u001b[0;36mpandas._libs.parsers.TextReader.__cinit__\u001b[0;34m()\u001b[0m\n",
            "\u001b[0;32m/usr/local/lib/python3.10/dist-packages/pandas/_libs/parsers.pyx\u001b[0m in \u001b[0;36mpandas._libs.parsers.TextReader._get_header\u001b[0;34m()\u001b[0m\n",
            "\u001b[0;32m/usr/local/lib/python3.10/dist-packages/pandas/_libs/parsers.pyx\u001b[0m in \u001b[0;36mpandas._libs.parsers.TextReader._tokenize_rows\u001b[0;34m()\u001b[0m\n",
            "\u001b[0;32m/usr/local/lib/python3.10/dist-packages/pandas/_libs/parsers.pyx\u001b[0m in \u001b[0;36mpandas._libs.parsers.TextReader._check_tokenize_status\u001b[0;34m()\u001b[0m\n",
            "\u001b[0;32m/usr/local/lib/python3.10/dist-packages/pandas/_libs/parsers.pyx\u001b[0m in \u001b[0;36mpandas._libs.parsers.raise_parser_error\u001b[0;34m()\u001b[0m\n",
            "\u001b[0;31mUnicodeDecodeError\u001b[0m: 'charmap' codec can't decode byte 0x8d in position 663: character maps to <undefined>"
          ]
        }
      ],
      "source": [
        "data=pd.read_csv('/content/Reviews.xlsx',encoding='cp1252')\n",
        "data.head()"
      ]
    },
    {
      "cell_type": "markdown",
      "source": [
        "#Cleaning Text"
      ],
      "metadata": {
        "id": "OMW2AxVsdsiE"
      }
    },
    {
      "cell_type": "code",
      "execution_count": null,
      "metadata": {
        "colab": {
          "base_uri": "https://localhost:8080/"
        },
        "id": "NTzmmNh89XIN",
        "outputId": "f346c8e1-d2b5-4ad8-eb6c-598099858b98"
      },
      "outputs": [
        {
          "output_type": "stream",
          "name": "stderr",
          "text": [
            "[nltk_data] Downloading package stopwords to /root/nltk_data...\n",
            "[nltk_data]   Unzipping corpora/stopwords.zip.\n"
          ]
        }
      ],
      "source": [
        "import nltk\n",
        "import string\n",
        "nltk.download('stopwords')\n",
        "from nltk.corpus import stopwords\n",
        "lines=[]\n",
        "\n",
        "r = str(data['reviewText'])\n",
        "\n",
        "for i,line in enumerate(r):\n",
        "  for ele in line:\n",
        "    if ele in string.punctuation:\n",
        "      line=line.replace(ele,'')\n",
        "  lines.append(line)"
      ]
    },
    {
      "cell_type": "code",
      "execution_count": null,
      "metadata": {
        "id": "BgaZRrDn9aTG"
      },
      "outputs": [],
      "source": [
        "def new_dataset(data,target):\n",
        "  lines_=pd.DataFrame(data=data)\n",
        "  new_data=[lines_,target]\n",
        "  concat=pd.concat(new_data,axis=1)\n",
        "  return concat"
      ]
    },
    {
      "cell_type": "code",
      "execution_count": null,
      "metadata": {
        "colab": {
          "base_uri": "https://localhost:8080/",
          "height": 423
        },
        "id": "mBRvEXSm-fAr",
        "outputId": "782568d7-7c34-4dc6-a72d-67d255d76f21"
      },
      "outputs": [
        {
          "output_type": "execute_result",
          "data": {
            "text/plain": [
              "     0  rating\n",
              "0    0     4.0\n",
              "1          4.0\n",
              "2          4.0\n",
              "3          5.0\n",
              "4          4.0\n",
              "..  ..     ...\n",
              "655  b     NaN\n",
              "656  j     NaN\n",
              "657  e     NaN\n",
              "658  c     NaN\n",
              "659  t     NaN\n",
              "\n",
              "[660 rows x 2 columns]"
            ],
            "text/html": [
              "\n",
              "  <div id=\"df-8cdd48e0-c3c4-4271-894e-fae72782e69d\" class=\"colab-df-container\">\n",
              "    <div>\n",
              "<style scoped>\n",
              "    .dataframe tbody tr th:only-of-type {\n",
              "        vertical-align: middle;\n",
              "    }\n",
              "\n",
              "    .dataframe tbody tr th {\n",
              "        vertical-align: top;\n",
              "    }\n",
              "\n",
              "    .dataframe thead th {\n",
              "        text-align: right;\n",
              "    }\n",
              "</style>\n",
              "<table border=\"1\" class=\"dataframe\">\n",
              "  <thead>\n",
              "    <tr style=\"text-align: right;\">\n",
              "      <th></th>\n",
              "      <th>0</th>\n",
              "      <th>rating</th>\n",
              "    </tr>\n",
              "  </thead>\n",
              "  <tbody>\n",
              "    <tr>\n",
              "      <th>0</th>\n",
              "      <td>0</td>\n",
              "      <td>4.0</td>\n",
              "    </tr>\n",
              "    <tr>\n",
              "      <th>1</th>\n",
              "      <td></td>\n",
              "      <td>4.0</td>\n",
              "    </tr>\n",
              "    <tr>\n",
              "      <th>2</th>\n",
              "      <td></td>\n",
              "      <td>4.0</td>\n",
              "    </tr>\n",
              "    <tr>\n",
              "      <th>3</th>\n",
              "      <td></td>\n",
              "      <td>5.0</td>\n",
              "    </tr>\n",
              "    <tr>\n",
              "      <th>4</th>\n",
              "      <td></td>\n",
              "      <td>4.0</td>\n",
              "    </tr>\n",
              "    <tr>\n",
              "      <th>...</th>\n",
              "      <td>...</td>\n",
              "      <td>...</td>\n",
              "    </tr>\n",
              "    <tr>\n",
              "      <th>655</th>\n",
              "      <td>b</td>\n",
              "      <td>NaN</td>\n",
              "    </tr>\n",
              "    <tr>\n",
              "      <th>656</th>\n",
              "      <td>j</td>\n",
              "      <td>NaN</td>\n",
              "    </tr>\n",
              "    <tr>\n",
              "      <th>657</th>\n",
              "      <td>e</td>\n",
              "      <td>NaN</td>\n",
              "    </tr>\n",
              "    <tr>\n",
              "      <th>658</th>\n",
              "      <td>c</td>\n",
              "      <td>NaN</td>\n",
              "    </tr>\n",
              "    <tr>\n",
              "      <th>659</th>\n",
              "      <td>t</td>\n",
              "      <td>NaN</td>\n",
              "    </tr>\n",
              "  </tbody>\n",
              "</table>\n",
              "<p>660 rows × 2 columns</p>\n",
              "</div>\n",
              "    <div class=\"colab-df-buttons\">\n",
              "\n",
              "  <div class=\"colab-df-container\">\n",
              "    <button class=\"colab-df-convert\" onclick=\"convertToInteractive('df-8cdd48e0-c3c4-4271-894e-fae72782e69d')\"\n",
              "            title=\"Convert this dataframe to an interactive table.\"\n",
              "            style=\"display:none;\">\n",
              "\n",
              "  <svg xmlns=\"http://www.w3.org/2000/svg\" height=\"24px\" viewBox=\"0 -960 960 960\">\n",
              "    <path d=\"M120-120v-720h720v720H120Zm60-500h600v-160H180v160Zm220 220h160v-160H400v160Zm0 220h160v-160H400v160ZM180-400h160v-160H180v160Zm440 0h160v-160H620v160ZM180-180h160v-160H180v160Zm440 0h160v-160H620v160Z\"/>\n",
              "  </svg>\n",
              "    </button>\n",
              "\n",
              "  <style>\n",
              "    .colab-df-container {\n",
              "      display:flex;\n",
              "      gap: 12px;\n",
              "    }\n",
              "\n",
              "    .colab-df-convert {\n",
              "      background-color: #E8F0FE;\n",
              "      border: none;\n",
              "      border-radius: 50%;\n",
              "      cursor: pointer;\n",
              "      display: none;\n",
              "      fill: #1967D2;\n",
              "      height: 32px;\n",
              "      padding: 0 0 0 0;\n",
              "      width: 32px;\n",
              "    }\n",
              "\n",
              "    .colab-df-convert:hover {\n",
              "      background-color: #E2EBFA;\n",
              "      box-shadow: 0px 1px 2px rgba(60, 64, 67, 0.3), 0px 1px 3px 1px rgba(60, 64, 67, 0.15);\n",
              "      fill: #174EA6;\n",
              "    }\n",
              "\n",
              "    .colab-df-buttons div {\n",
              "      margin-bottom: 4px;\n",
              "    }\n",
              "\n",
              "    [theme=dark] .colab-df-convert {\n",
              "      background-color: #3B4455;\n",
              "      fill: #D2E3FC;\n",
              "    }\n",
              "\n",
              "    [theme=dark] .colab-df-convert:hover {\n",
              "      background-color: #434B5C;\n",
              "      box-shadow: 0px 1px 3px 1px rgba(0, 0, 0, 0.15);\n",
              "      filter: drop-shadow(0px 1px 2px rgba(0, 0, 0, 0.3));\n",
              "      fill: #FFFFFF;\n",
              "    }\n",
              "  </style>\n",
              "\n",
              "    <script>\n",
              "      const buttonEl =\n",
              "        document.querySelector('#df-8cdd48e0-c3c4-4271-894e-fae72782e69d button.colab-df-convert');\n",
              "      buttonEl.style.display =\n",
              "        google.colab.kernel.accessAllowed ? 'block' : 'none';\n",
              "\n",
              "      async function convertToInteractive(key) {\n",
              "        const element = document.querySelector('#df-8cdd48e0-c3c4-4271-894e-fae72782e69d');\n",
              "        const dataTable =\n",
              "          await google.colab.kernel.invokeFunction('convertToInteractive',\n",
              "                                                    [key], {});\n",
              "        if (!dataTable) return;\n",
              "\n",
              "        const docLinkHtml = 'Like what you see? Visit the ' +\n",
              "          '<a target=\"_blank\" href=https://colab.research.google.com/notebooks/data_table.ipynb>data table notebook</a>'\n",
              "          + ' to learn more about interactive tables.';\n",
              "        element.innerHTML = '';\n",
              "        dataTable['output_type'] = 'display_data';\n",
              "        await google.colab.output.renderOutput(dataTable, element);\n",
              "        const docLink = document.createElement('div');\n",
              "        docLink.innerHTML = docLinkHtml;\n",
              "        element.appendChild(docLink);\n",
              "      }\n",
              "    </script>\n",
              "  </div>\n",
              "\n",
              "\n",
              "<div id=\"df-6dfd2980-0f24-4dda-9fb4-a5a5446ff149\">\n",
              "  <button class=\"colab-df-quickchart\" onclick=\"quickchart('df-6dfd2980-0f24-4dda-9fb4-a5a5446ff149')\"\n",
              "            title=\"Suggest charts.\"\n",
              "            style=\"display:none;\">\n",
              "\n",
              "<svg xmlns=\"http://www.w3.org/2000/svg\" height=\"24px\"viewBox=\"0 0 24 24\"\n",
              "     width=\"24px\">\n",
              "    <g>\n",
              "        <path d=\"M19 3H5c-1.1 0-2 .9-2 2v14c0 1.1.9 2 2 2h14c1.1 0 2-.9 2-2V5c0-1.1-.9-2-2-2zM9 17H7v-7h2v7zm4 0h-2V7h2v10zm4 0h-2v-4h2v4z\"/>\n",
              "    </g>\n",
              "</svg>\n",
              "  </button>\n",
              "\n",
              "<style>\n",
              "  .colab-df-quickchart {\n",
              "      --bg-color: #E8F0FE;\n",
              "      --fill-color: #1967D2;\n",
              "      --hover-bg-color: #E2EBFA;\n",
              "      --hover-fill-color: #174EA6;\n",
              "      --disabled-fill-color: #AAA;\n",
              "      --disabled-bg-color: #DDD;\n",
              "  }\n",
              "\n",
              "  [theme=dark] .colab-df-quickchart {\n",
              "      --bg-color: #3B4455;\n",
              "      --fill-color: #D2E3FC;\n",
              "      --hover-bg-color: #434B5C;\n",
              "      --hover-fill-color: #FFFFFF;\n",
              "      --disabled-bg-color: #3B4455;\n",
              "      --disabled-fill-color: #666;\n",
              "  }\n",
              "\n",
              "  .colab-df-quickchart {\n",
              "    background-color: var(--bg-color);\n",
              "    border: none;\n",
              "    border-radius: 50%;\n",
              "    cursor: pointer;\n",
              "    display: none;\n",
              "    fill: var(--fill-color);\n",
              "    height: 32px;\n",
              "    padding: 0;\n",
              "    width: 32px;\n",
              "  }\n",
              "\n",
              "  .colab-df-quickchart:hover {\n",
              "    background-color: var(--hover-bg-color);\n",
              "    box-shadow: 0 1px 2px rgba(60, 64, 67, 0.3), 0 1px 3px 1px rgba(60, 64, 67, 0.15);\n",
              "    fill: var(--button-hover-fill-color);\n",
              "  }\n",
              "\n",
              "  .colab-df-quickchart-complete:disabled,\n",
              "  .colab-df-quickchart-complete:disabled:hover {\n",
              "    background-color: var(--disabled-bg-color);\n",
              "    fill: var(--disabled-fill-color);\n",
              "    box-shadow: none;\n",
              "  }\n",
              "\n",
              "  .colab-df-spinner {\n",
              "    border: 2px solid var(--fill-color);\n",
              "    border-color: transparent;\n",
              "    border-bottom-color: var(--fill-color);\n",
              "    animation:\n",
              "      spin 1s steps(1) infinite;\n",
              "  }\n",
              "\n",
              "  @keyframes spin {\n",
              "    0% {\n",
              "      border-color: transparent;\n",
              "      border-bottom-color: var(--fill-color);\n",
              "      border-left-color: var(--fill-color);\n",
              "    }\n",
              "    20% {\n",
              "      border-color: transparent;\n",
              "      border-left-color: var(--fill-color);\n",
              "      border-top-color: var(--fill-color);\n",
              "    }\n",
              "    30% {\n",
              "      border-color: transparent;\n",
              "      border-left-color: var(--fill-color);\n",
              "      border-top-color: var(--fill-color);\n",
              "      border-right-color: var(--fill-color);\n",
              "    }\n",
              "    40% {\n",
              "      border-color: transparent;\n",
              "      border-right-color: var(--fill-color);\n",
              "      border-top-color: var(--fill-color);\n",
              "    }\n",
              "    60% {\n",
              "      border-color: transparent;\n",
              "      border-right-color: var(--fill-color);\n",
              "    }\n",
              "    80% {\n",
              "      border-color: transparent;\n",
              "      border-right-color: var(--fill-color);\n",
              "      border-bottom-color: var(--fill-color);\n",
              "    }\n",
              "    90% {\n",
              "      border-color: transparent;\n",
              "      border-bottom-color: var(--fill-color);\n",
              "    }\n",
              "  }\n",
              "</style>\n",
              "\n",
              "  <script>\n",
              "    async function quickchart(key) {\n",
              "      const quickchartButtonEl =\n",
              "        document.querySelector('#' + key + ' button');\n",
              "      quickchartButtonEl.disabled = true;  // To prevent multiple clicks.\n",
              "      quickchartButtonEl.classList.add('colab-df-spinner');\n",
              "      try {\n",
              "        const charts = await google.colab.kernel.invokeFunction(\n",
              "            'suggestCharts', [key], {});\n",
              "      } catch (error) {\n",
              "        console.error('Error during call to suggestCharts:', error);\n",
              "      }\n",
              "      quickchartButtonEl.classList.remove('colab-df-spinner');\n",
              "      quickchartButtonEl.classList.add('colab-df-quickchart-complete');\n",
              "    }\n",
              "    (() => {\n",
              "      let quickchartButtonEl =\n",
              "        document.querySelector('#df-6dfd2980-0f24-4dda-9fb4-a5a5446ff149 button');\n",
              "      quickchartButtonEl.style.display =\n",
              "        google.colab.kernel.accessAllowed ? 'block' : 'none';\n",
              "    })();\n",
              "  </script>\n",
              "</div>\n",
              "    </div>\n",
              "  </div>\n"
            ]
          },
          "metadata": {},
          "execution_count": 8
        }
      ],
      "source": [
        "new_data=new_dataset(lines,data['rating'])\n",
        "new_data"
      ]
    },
    {
      "cell_type": "code",
      "execution_count": null,
      "metadata": {
        "id": "V7ccR0B_-iZq"
      },
      "outputs": [],
      "source": [
        "new_data[0]=new_data[0].astype('string')"
      ]
    },
    {
      "cell_type": "markdown",
      "metadata": {
        "id": "UjnhpKU9-nmh"
      },
      "source": [
        "def get_metrics(y_test, y_pred_proba):\n",
        "    print('ACCURACY_SCORE: ', round(accuracy_score(y_test, y_pred_proba >= 0.5), 4))\n",
        "    print('F1_SCORE: ', round(f1_score(y_test, y_pred_proba >= 0.5, average = \"macro\"), 4))\n",
        "    print('ROC_AUC_SCORE: ', round(roc_auc_score(y_test, y_pred_proba), 4))\n",
        "    print('CONFUSION_MATRIX:\\n', confusion_matrix(y_test, y_pred_proba >= 0.5),'\\n')"
      ]
    },
    {
      "cell_type": "code",
      "execution_count": null,
      "metadata": {
        "id": "apKs8EheBkC6",
        "colab": {
          "base_uri": "https://localhost:8080/",
          "height": 423
        },
        "outputId": "eadea592-3e92-4b03-8726-2d83405d5bf6"
      },
      "outputs": [
        {
          "output_type": "execute_result",
          "data": {
            "text/plain": [
              "     0  rating\n",
              "0    0     4.0\n",
              "1          4.0\n",
              "2          4.0\n",
              "3          5.0\n",
              "4          4.0\n",
              "..  ..     ...\n",
              "655  b     NaN\n",
              "656  j     NaN\n",
              "657  e     NaN\n",
              "658  c     NaN\n",
              "659  t     NaN\n",
              "\n",
              "[660 rows x 2 columns]"
            ],
            "text/html": [
              "\n",
              "  <div id=\"df-aab56081-a28a-46a1-8fec-2f06aaed3d59\" class=\"colab-df-container\">\n",
              "    <div>\n",
              "<style scoped>\n",
              "    .dataframe tbody tr th:only-of-type {\n",
              "        vertical-align: middle;\n",
              "    }\n",
              "\n",
              "    .dataframe tbody tr th {\n",
              "        vertical-align: top;\n",
              "    }\n",
              "\n",
              "    .dataframe thead th {\n",
              "        text-align: right;\n",
              "    }\n",
              "</style>\n",
              "<table border=\"1\" class=\"dataframe\">\n",
              "  <thead>\n",
              "    <tr style=\"text-align: right;\">\n",
              "      <th></th>\n",
              "      <th>0</th>\n",
              "      <th>rating</th>\n",
              "    </tr>\n",
              "  </thead>\n",
              "  <tbody>\n",
              "    <tr>\n",
              "      <th>0</th>\n",
              "      <td>0</td>\n",
              "      <td>4.0</td>\n",
              "    </tr>\n",
              "    <tr>\n",
              "      <th>1</th>\n",
              "      <td></td>\n",
              "      <td>4.0</td>\n",
              "    </tr>\n",
              "    <tr>\n",
              "      <th>2</th>\n",
              "      <td></td>\n",
              "      <td>4.0</td>\n",
              "    </tr>\n",
              "    <tr>\n",
              "      <th>3</th>\n",
              "      <td></td>\n",
              "      <td>5.0</td>\n",
              "    </tr>\n",
              "    <tr>\n",
              "      <th>4</th>\n",
              "      <td></td>\n",
              "      <td>4.0</td>\n",
              "    </tr>\n",
              "    <tr>\n",
              "      <th>...</th>\n",
              "      <td>...</td>\n",
              "      <td>...</td>\n",
              "    </tr>\n",
              "    <tr>\n",
              "      <th>655</th>\n",
              "      <td>b</td>\n",
              "      <td>NaN</td>\n",
              "    </tr>\n",
              "    <tr>\n",
              "      <th>656</th>\n",
              "      <td>j</td>\n",
              "      <td>NaN</td>\n",
              "    </tr>\n",
              "    <tr>\n",
              "      <th>657</th>\n",
              "      <td>e</td>\n",
              "      <td>NaN</td>\n",
              "    </tr>\n",
              "    <tr>\n",
              "      <th>658</th>\n",
              "      <td>c</td>\n",
              "      <td>NaN</td>\n",
              "    </tr>\n",
              "    <tr>\n",
              "      <th>659</th>\n",
              "      <td>t</td>\n",
              "      <td>NaN</td>\n",
              "    </tr>\n",
              "  </tbody>\n",
              "</table>\n",
              "<p>660 rows × 2 columns</p>\n",
              "</div>\n",
              "    <div class=\"colab-df-buttons\">\n",
              "\n",
              "  <div class=\"colab-df-container\">\n",
              "    <button class=\"colab-df-convert\" onclick=\"convertToInteractive('df-aab56081-a28a-46a1-8fec-2f06aaed3d59')\"\n",
              "            title=\"Convert this dataframe to an interactive table.\"\n",
              "            style=\"display:none;\">\n",
              "\n",
              "  <svg xmlns=\"http://www.w3.org/2000/svg\" height=\"24px\" viewBox=\"0 -960 960 960\">\n",
              "    <path d=\"M120-120v-720h720v720H120Zm60-500h600v-160H180v160Zm220 220h160v-160H400v160Zm0 220h160v-160H400v160ZM180-400h160v-160H180v160Zm440 0h160v-160H620v160ZM180-180h160v-160H180v160Zm440 0h160v-160H620v160Z\"/>\n",
              "  </svg>\n",
              "    </button>\n",
              "\n",
              "  <style>\n",
              "    .colab-df-container {\n",
              "      display:flex;\n",
              "      gap: 12px;\n",
              "    }\n",
              "\n",
              "    .colab-df-convert {\n",
              "      background-color: #E8F0FE;\n",
              "      border: none;\n",
              "      border-radius: 50%;\n",
              "      cursor: pointer;\n",
              "      display: none;\n",
              "      fill: #1967D2;\n",
              "      height: 32px;\n",
              "      padding: 0 0 0 0;\n",
              "      width: 32px;\n",
              "    }\n",
              "\n",
              "    .colab-df-convert:hover {\n",
              "      background-color: #E2EBFA;\n",
              "      box-shadow: 0px 1px 2px rgba(60, 64, 67, 0.3), 0px 1px 3px 1px rgba(60, 64, 67, 0.15);\n",
              "      fill: #174EA6;\n",
              "    }\n",
              "\n",
              "    .colab-df-buttons div {\n",
              "      margin-bottom: 4px;\n",
              "    }\n",
              "\n",
              "    [theme=dark] .colab-df-convert {\n",
              "      background-color: #3B4455;\n",
              "      fill: #D2E3FC;\n",
              "    }\n",
              "\n",
              "    [theme=dark] .colab-df-convert:hover {\n",
              "      background-color: #434B5C;\n",
              "      box-shadow: 0px 1px 3px 1px rgba(0, 0, 0, 0.15);\n",
              "      filter: drop-shadow(0px 1px 2px rgba(0, 0, 0, 0.3));\n",
              "      fill: #FFFFFF;\n",
              "    }\n",
              "  </style>\n",
              "\n",
              "    <script>\n",
              "      const buttonEl =\n",
              "        document.querySelector('#df-aab56081-a28a-46a1-8fec-2f06aaed3d59 button.colab-df-convert');\n",
              "      buttonEl.style.display =\n",
              "        google.colab.kernel.accessAllowed ? 'block' : 'none';\n",
              "\n",
              "      async function convertToInteractive(key) {\n",
              "        const element = document.querySelector('#df-aab56081-a28a-46a1-8fec-2f06aaed3d59');\n",
              "        const dataTable =\n",
              "          await google.colab.kernel.invokeFunction('convertToInteractive',\n",
              "                                                    [key], {});\n",
              "        if (!dataTable) return;\n",
              "\n",
              "        const docLinkHtml = 'Like what you see? Visit the ' +\n",
              "          '<a target=\"_blank\" href=https://colab.research.google.com/notebooks/data_table.ipynb>data table notebook</a>'\n",
              "          + ' to learn more about interactive tables.';\n",
              "        element.innerHTML = '';\n",
              "        dataTable['output_type'] = 'display_data';\n",
              "        await google.colab.output.renderOutput(dataTable, element);\n",
              "        const docLink = document.createElement('div');\n",
              "        docLink.innerHTML = docLinkHtml;\n",
              "        element.appendChild(docLink);\n",
              "      }\n",
              "    </script>\n",
              "  </div>\n",
              "\n",
              "\n",
              "<div id=\"df-281716d1-3341-43ee-9d63-801b8b43ec34\">\n",
              "  <button class=\"colab-df-quickchart\" onclick=\"quickchart('df-281716d1-3341-43ee-9d63-801b8b43ec34')\"\n",
              "            title=\"Suggest charts.\"\n",
              "            style=\"display:none;\">\n",
              "\n",
              "<svg xmlns=\"http://www.w3.org/2000/svg\" height=\"24px\"viewBox=\"0 0 24 24\"\n",
              "     width=\"24px\">\n",
              "    <g>\n",
              "        <path d=\"M19 3H5c-1.1 0-2 .9-2 2v14c0 1.1.9 2 2 2h14c1.1 0 2-.9 2-2V5c0-1.1-.9-2-2-2zM9 17H7v-7h2v7zm4 0h-2V7h2v10zm4 0h-2v-4h2v4z\"/>\n",
              "    </g>\n",
              "</svg>\n",
              "  </button>\n",
              "\n",
              "<style>\n",
              "  .colab-df-quickchart {\n",
              "      --bg-color: #E8F0FE;\n",
              "      --fill-color: #1967D2;\n",
              "      --hover-bg-color: #E2EBFA;\n",
              "      --hover-fill-color: #174EA6;\n",
              "      --disabled-fill-color: #AAA;\n",
              "      --disabled-bg-color: #DDD;\n",
              "  }\n",
              "\n",
              "  [theme=dark] .colab-df-quickchart {\n",
              "      --bg-color: #3B4455;\n",
              "      --fill-color: #D2E3FC;\n",
              "      --hover-bg-color: #434B5C;\n",
              "      --hover-fill-color: #FFFFFF;\n",
              "      --disabled-bg-color: #3B4455;\n",
              "      --disabled-fill-color: #666;\n",
              "  }\n",
              "\n",
              "  .colab-df-quickchart {\n",
              "    background-color: var(--bg-color);\n",
              "    border: none;\n",
              "    border-radius: 50%;\n",
              "    cursor: pointer;\n",
              "    display: none;\n",
              "    fill: var(--fill-color);\n",
              "    height: 32px;\n",
              "    padding: 0;\n",
              "    width: 32px;\n",
              "  }\n",
              "\n",
              "  .colab-df-quickchart:hover {\n",
              "    background-color: var(--hover-bg-color);\n",
              "    box-shadow: 0 1px 2px rgba(60, 64, 67, 0.3), 0 1px 3px 1px rgba(60, 64, 67, 0.15);\n",
              "    fill: var(--button-hover-fill-color);\n",
              "  }\n",
              "\n",
              "  .colab-df-quickchart-complete:disabled,\n",
              "  .colab-df-quickchart-complete:disabled:hover {\n",
              "    background-color: var(--disabled-bg-color);\n",
              "    fill: var(--disabled-fill-color);\n",
              "    box-shadow: none;\n",
              "  }\n",
              "\n",
              "  .colab-df-spinner {\n",
              "    border: 2px solid var(--fill-color);\n",
              "    border-color: transparent;\n",
              "    border-bottom-color: var(--fill-color);\n",
              "    animation:\n",
              "      spin 1s steps(1) infinite;\n",
              "  }\n",
              "\n",
              "  @keyframes spin {\n",
              "    0% {\n",
              "      border-color: transparent;\n",
              "      border-bottom-color: var(--fill-color);\n",
              "      border-left-color: var(--fill-color);\n",
              "    }\n",
              "    20% {\n",
              "      border-color: transparent;\n",
              "      border-left-color: var(--fill-color);\n",
              "      border-top-color: var(--fill-color);\n",
              "    }\n",
              "    30% {\n",
              "      border-color: transparent;\n",
              "      border-left-color: var(--fill-color);\n",
              "      border-top-color: var(--fill-color);\n",
              "      border-right-color: var(--fill-color);\n",
              "    }\n",
              "    40% {\n",
              "      border-color: transparent;\n",
              "      border-right-color: var(--fill-color);\n",
              "      border-top-color: var(--fill-color);\n",
              "    }\n",
              "    60% {\n",
              "      border-color: transparent;\n",
              "      border-right-color: var(--fill-color);\n",
              "    }\n",
              "    80% {\n",
              "      border-color: transparent;\n",
              "      border-right-color: var(--fill-color);\n",
              "      border-bottom-color: var(--fill-color);\n",
              "    }\n",
              "    90% {\n",
              "      border-color: transparent;\n",
              "      border-bottom-color: var(--fill-color);\n",
              "    }\n",
              "  }\n",
              "</style>\n",
              "\n",
              "  <script>\n",
              "    async function quickchart(key) {\n",
              "      const quickchartButtonEl =\n",
              "        document.querySelector('#' + key + ' button');\n",
              "      quickchartButtonEl.disabled = true;  // To prevent multiple clicks.\n",
              "      quickchartButtonEl.classList.add('colab-df-spinner');\n",
              "      try {\n",
              "        const charts = await google.colab.kernel.invokeFunction(\n",
              "            'suggestCharts', [key], {});\n",
              "      } catch (error) {\n",
              "        console.error('Error during call to suggestCharts:', error);\n",
              "      }\n",
              "      quickchartButtonEl.classList.remove('colab-df-spinner');\n",
              "      quickchartButtonEl.classList.add('colab-df-quickchart-complete');\n",
              "    }\n",
              "    (() => {\n",
              "      let quickchartButtonEl =\n",
              "        document.querySelector('#df-281716d1-3341-43ee-9d63-801b8b43ec34 button');\n",
              "      quickchartButtonEl.style.display =\n",
              "        google.colab.kernel.accessAllowed ? 'block' : 'none';\n",
              "    })();\n",
              "  </script>\n",
              "</div>\n",
              "    </div>\n",
              "  </div>\n"
            ]
          },
          "metadata": {},
          "execution_count": 10
        }
      ],
      "source": [
        "new_data"
      ]
    },
    {
      "cell_type": "code",
      "execution_count": null,
      "metadata": {
        "id": "Auq2bFLDBk96",
        "colab": {
          "base_uri": "https://localhost:8080/"
        },
        "outputId": "2407b6a5-bc2a-41b4-f93a-4fa24ee1a5ac"
      },
      "outputs": [
        {
          "output_type": "stream",
          "name": "stdout",
          "text": [
            "<class 'pandas.core.frame.DataFrame'>\n",
            "RangeIndex: 660 entries, 0 to 659\n",
            "Data columns (total 2 columns):\n",
            " #   Column  Non-Null Count  Dtype  \n",
            "---  ------  --------------  -----  \n",
            " 0   0       660 non-null    string \n",
            " 1   rating  100 non-null    float64\n",
            "dtypes: float64(1), string(1)\n",
            "memory usage: 10.4 KB\n"
          ]
        }
      ],
      "source": [
        "new_data.info()"
      ]
    },
    {
      "cell_type": "code",
      "execution_count": null,
      "metadata": {
        "id": "KDeQzWZZCtbs"
      },
      "outputs": [],
      "source": [
        "import nltk\n",
        "new_lines=[]\n",
        "for line in new_data[0]:\n",
        "  lines=nltk.tokenize.sent_tokenize\n",
        "  new_lines.append(lines)"
      ]
    },
    {
      "cell_type": "markdown",
      "source": [
        "#Tokenization and Padding the sequence input"
      ],
      "metadata": {
        "id": "j1CeF4Sod16f"
      }
    },
    {
      "cell_type": "code",
      "execution_count": null,
      "metadata": {
        "colab": {
          "base_uri": "https://localhost:8080/"
        },
        "id": "bHOCw_ZzC4TU",
        "outputId": "9d0af8dc-5c30-4c8d-901a-a8c5d7ef95ea"
      },
      "outputs": [
        {
          "output_type": "stream",
          "name": "stderr",
          "text": [
            "[nltk_data] Downloading package punkt to /root/nltk_data...\n",
            "[nltk_data]   Unzipping tokenizers/punkt.zip.\n"
          ]
        }
      ],
      "source": [
        "from keras.preprocessing.text import Tokenizer\n",
        "from keras.utils import pad_sequences\n",
        "new_list=[]\n",
        "\n",
        "nltk.download('punkt')\n",
        "from keras.preprocessing.text import Tokenizer\n",
        "def sequence_data_dataset(data,n):\n",
        "  # for str_ in data[0]:\n",
        "\n",
        "  # tokens=nltk.word_tokenize(data)\n",
        "  # sents=nltk.sent_tokenize(data)\n",
        "  tokenize=Tokenizer(num_words=5000)\n",
        "  # if len(tokens)<n:\n",
        "  # for i in range(0,len(sents),1):\n",
        "  tokenize.fit_on_texts(data)\n",
        "  tokens_=tokenize.texts_to_sequences(data)\n",
        "  tokens_=pad_sequences(tokens_,padding='post',maxlen=n)\n",
        "\n",
        "  return tokens_,tokenize\n",
        "#   concat=[pd.DataFrame(data=new_list),data['sentiment']]\n",
        "#   return pd.concat(concat,axis=1)"
      ]
    },
    {
      "cell_type": "code",
      "execution_count": null,
      "metadata": {
        "id": "5GsaoUqWDEmx",
        "colab": {
          "base_uri": "https://localhost:8080/"
        },
        "outputId": "64f37399-cf5b-4ecf-eb7e-da321a9b6266"
      },
      "outputs": [
        {
          "output_type": "execute_result",
          "data": {
            "text/plain": [
              "(660, 7)"
            ]
          },
          "metadata": {},
          "execution_count": 14
        }
      ],
      "source": [
        "new_dataset,tokenize=sequence_data_dataset(new_data[0],7)\n",
        "new_dataset\n",
        "new_dataset.shape"
      ]
    },
    {
      "cell_type": "code",
      "execution_count": null,
      "metadata": {
        "id": "gtWmwR22DJ9n",
        "colab": {
          "base_uri": "https://localhost:8080/"
        },
        "outputId": "ceceae4c-9113-4452-817a-cc876c6b76f8"
      },
      "outputs": [
        {
          "output_type": "execute_result",
          "data": {
            "text/plain": [
              "array([[23,  0,  0, ...,  0,  0,  0],\n",
              "       [ 0,  0,  0, ...,  0,  0,  0],\n",
              "       [ 0,  0,  0, ...,  0,  0,  0],\n",
              "       ...,\n",
              "       [ 1,  0,  0, ...,  0,  0,  0],\n",
              "       [10,  0,  0, ...,  0,  0,  0],\n",
              "       [ 3,  0,  0, ...,  0,  0,  0]], dtype=int32)"
            ]
          },
          "metadata": {},
          "execution_count": 15
        }
      ],
      "source": [
        "new_dataset"
      ]
    },
    {
      "cell_type": "code",
      "execution_count": null,
      "metadata": {
        "id": "5gmmyXEnDM06"
      },
      "outputs": [],
      "source": [
        "X=new_dataset\n",
        "# Y=new_data['sentiment']\n",
        "Y = pd.get_dummies(new_data['rating'])"
      ]
    },
    {
      "cell_type": "markdown",
      "source": [
        "#splitting the Dataset(New) into train and test"
      ],
      "metadata": {
        "id": "SwAfn9XEd_-0"
      }
    },
    {
      "cell_type": "code",
      "execution_count": null,
      "metadata": {
        "id": "hYx5rw63DS7a"
      },
      "outputs": [],
      "source": [
        "from sklearn.model_selection import train_test_split\n",
        "x_train,x_test,y_train,y_test=train_test_split(X,Y,test_size=0.2,random_state=0)\n",
        "x_train,x_val,y_train,y_val=train_test_split(x_train,y_train,test_size=0.1,random_state=0)"
      ]
    },
    {
      "cell_type": "code",
      "execution_count": null,
      "metadata": {
        "id": "nmxuKT1PDXcj",
        "colab": {
          "base_uri": "https://localhost:8080/"
        },
        "outputId": "b6ef8a1e-f267-428b-b0fd-1fca4561b237"
      },
      "outputs": [
        {
          "output_type": "execute_result",
          "data": {
            "text/plain": [
              "(475, 7)"
            ]
          },
          "metadata": {},
          "execution_count": 18
        }
      ],
      "source": [
        "x_train.shape"
      ]
    },
    {
      "cell_type": "code",
      "execution_count": null,
      "metadata": {
        "id": "ylZy1v4WDZ_P",
        "colab": {
          "base_uri": "https://localhost:8080/"
        },
        "outputId": "157b78a3-c407-4649-91a0-ba2e64c3600b"
      },
      "outputs": [
        {
          "output_type": "execute_result",
          "data": {
            "text/plain": [
              "(475, 4)"
            ]
          },
          "metadata": {},
          "execution_count": 19
        }
      ],
      "source": [
        "y_train.shape"
      ]
    },
    {
      "cell_type": "markdown",
      "source": [
        "#Bidirectional-LSTM With CNN\n",
        "\n",
        "\n",
        "\n",
        "\n"
      ],
      "metadata": {
        "id": "lsc_8HMneGLb"
      }
    },
    {
      "cell_type": "code",
      "execution_count": null,
      "metadata": {
        "id": "yvtSjuu6DecM",
        "colab": {
          "base_uri": "https://localhost:8080/"
        },
        "outputId": "b6b84cf8-f63f-4fe5-9693-cdf767573be9"
      },
      "outputs": [
        {
          "output_type": "stream",
          "name": "stdout",
          "text": [
            "Model: \"sequential\"\n",
            "_________________________________________________________________\n",
            " Layer (type)                Output Shape              Param #   \n",
            "=================================================================\n",
            " embedding (Embedding)       (None, 7, 15)             90000     \n",
            "                                                                 \n",
            " bidirectional (Bidirection  (None, 128)               40960     \n",
            " al)                                                             \n",
            "                                                                 \n",
            " dropout (Dropout)           (None, 128)               0         \n",
            "                                                                 \n",
            " dense (Dense)               (None, 4)                 516       \n",
            "                                                                 \n",
            "=================================================================\n",
            "Total params: 131476 (513.58 KB)\n",
            "Trainable params: 131476 (513.58 KB)\n",
            "Non-trainable params: 0 (0.00 Byte)\n",
            "_________________________________________________________________\n",
            "Epoch 1/30\n",
            "3/3 [==============================] - 6s 779ms/step - loss: 0.1932 - accuracy: 0.3421 - val_loss: 0.2183 - val_accuracy: 0.0737\n",
            "Epoch 2/30\n",
            "3/3 [==============================] - 0s 75ms/step - loss: 0.1923 - accuracy: 0.0895 - val_loss: 0.2175 - val_accuracy: 0.0737\n",
            "Epoch 3/30\n",
            "3/3 [==============================] - 0s 71ms/step - loss: 0.1916 - accuracy: 0.0789 - val_loss: 0.2166 - val_accuracy: 0.0737\n",
            "Epoch 4/30\n",
            "3/3 [==============================] - 0s 80ms/step - loss: 0.1902 - accuracy: 0.0737 - val_loss: 0.2156 - val_accuracy: 0.0737\n",
            "Epoch 5/30\n",
            "3/3 [==============================] - 0s 76ms/step - loss: 0.1885 - accuracy: 0.0684 - val_loss: 0.2144 - val_accuracy: 0.0737\n",
            "Epoch 6/30\n",
            "3/3 [==============================] - 0s 65ms/step - loss: 0.1870 - accuracy: 0.0684 - val_loss: 0.2128 - val_accuracy: 0.0737\n",
            "Epoch 7/30\n",
            "3/3 [==============================] - 0s 77ms/step - loss: 0.1842 - accuracy: 0.0737 - val_loss: 0.2109 - val_accuracy: 0.0737\n",
            "Epoch 8/30\n",
            "3/3 [==============================] - 0s 70ms/step - loss: 0.1810 - accuracy: 0.0763 - val_loss: 0.2082 - val_accuracy: 0.0737\n",
            "Epoch 9/30\n",
            "3/3 [==============================] - 0s 60ms/step - loss: 0.1784 - accuracy: 0.0605 - val_loss: 0.2049 - val_accuracy: 0.0737\n",
            "Epoch 10/30\n",
            "3/3 [==============================] - 0s 93ms/step - loss: 0.1703 - accuracy: 0.0711 - val_loss: 0.2014 - val_accuracy: 0.0737\n",
            "Epoch 11/30\n",
            "3/3 [==============================] - 0s 34ms/step - loss: 0.1685 - accuracy: 0.0605 - val_loss: 0.1998 - val_accuracy: 0.0737\n",
            "Epoch 12/30\n",
            "3/3 [==============================] - 0s 45ms/step - loss: 0.1519 - accuracy: 0.0816 - val_loss: 0.2039 - val_accuracy: 0.0737\n",
            "Epoch 13/30\n",
            "3/3 [==============================] - 0s 42ms/step - loss: 0.1541 - accuracy: 0.0763 - val_loss: 0.2134 - val_accuracy: 0.0737\n",
            "Epoch 14/30\n",
            "3/3 [==============================] - 0s 38ms/step - loss: 0.1571 - accuracy: 0.0789 - val_loss: 0.2188 - val_accuracy: 0.0737\n",
            "Epoch 15/30\n",
            "3/3 [==============================] - 0s 35ms/step - loss: 0.1708 - accuracy: 0.0737 - val_loss: 0.2181 - val_accuracy: 0.0737\n",
            "Epoch 16/30\n",
            "3/3 [==============================] - 0s 92ms/step - loss: 0.1604 - accuracy: 0.0868 - val_loss: 0.2141 - val_accuracy: 0.0737\n",
            "Epoch 17/30\n",
            "3/3 [==============================] - 0s 37ms/step - loss: 0.1709 - accuracy: 0.0763 - val_loss: 0.2096 - val_accuracy: 0.0737\n",
            "Epoch 18/30\n",
            "3/3 [==============================] - 0s 44ms/step - loss: 0.1573 - accuracy: 0.1026 - val_loss: 0.2062 - val_accuracy: 0.0737\n",
            "Epoch 19/30\n",
            "3/3 [==============================] - 0s 39ms/step - loss: 0.1482 - accuracy: 0.1026 - val_loss: 0.2048 - val_accuracy: 0.0737\n",
            "Epoch 20/30\n",
            "3/3 [==============================] - 0s 45ms/step - loss: 0.1661 - accuracy: 0.0737 - val_loss: 0.2044 - val_accuracy: 0.0737\n",
            "Epoch 21/30\n",
            "3/3 [==============================] - 0s 42ms/step - loss: 0.1743 - accuracy: 0.0868 - val_loss: 0.2049 - val_accuracy: 0.0737\n",
            "Epoch 22/30\n",
            "3/3 [==============================] - 0s 37ms/step - loss: 0.1705 - accuracy: 0.0921 - val_loss: 0.2059 - val_accuracy: 0.0737\n",
            "Epoch 23/30\n",
            "3/3 [==============================] - 0s 38ms/step - loss: 0.1740 - accuracy: 0.1000 - val_loss: 0.2075 - val_accuracy: 0.0737\n",
            "Epoch 24/30\n",
            "3/3 [==============================] - 0s 43ms/step - loss: 0.1798 - accuracy: 0.0789 - val_loss: 0.2096 - val_accuracy: 0.0737\n",
            "Epoch 25/30\n",
            "3/3 [==============================] - 0s 53ms/step - loss: 0.1650 - accuracy: 0.0921 - val_loss: 0.2114 - val_accuracy: 0.0737\n",
            "Epoch 26/30\n",
            "3/3 [==============================] - 0s 43ms/step - loss: 0.1852 - accuracy: 0.0842 - val_loss: 0.2126 - val_accuracy: 0.0737\n",
            "Epoch 27/30\n",
            "3/3 [==============================] - 0s 44ms/step - loss: 0.1690 - accuracy: 0.0868 - val_loss: 0.2137 - val_accuracy: 0.0737\n",
            "Epoch 28/30\n",
            "3/3 [==============================] - 0s 37ms/step - loss: 0.1881 - accuracy: 0.0789 - val_loss: 0.2146 - val_accuracy: 0.0737\n",
            "Epoch 29/30\n",
            "3/3 [==============================] - 0s 37ms/step - loss: 0.1636 - accuracy: 0.0974 - val_loss: 0.2150 - val_accuracy: 0.0737\n",
            "Epoch 30/30\n",
            "3/3 [==============================] - 0s 36ms/step - loss: 0.1847 - accuracy: 0.0684 - val_loss: 0.2151 - val_accuracy: 0.0737\n"
          ]
        }
      ],
      "source": [
        "model1 = keras.Sequential([\n",
        "    keras.layers.Embedding(6000, 15, input_length=7),\n",
        "    keras.layers.Bidirectional(keras.layers.LSTM(64)),\n",
        "    keras.layers.Dropout(0.2),\n",
        "    keras.layers.Dense(4, activation='softmax') #change value accorind to y train value like 3 or 4 or 5\n",
        "])\n",
        "\n",
        "# compiles model\n",
        "model1.compile(loss='categorical_crossentropy',\n",
        "              optimizer='adam',\n",
        "              metrics=['accuracy'])\n",
        "\n",
        "# model summary\n",
        "model1.summary()\n",
        "\n",
        "num_epochs = 30\n",
        "history1 = model1.fit(x_train,y_train, epochs=num_epochs, batch_size = 128, verbose=1, validation_split=0.2)"
      ]
    },
    {
      "cell_type": "code",
      "execution_count": null,
      "metadata": {
        "id": "wBQ3vguhDh7l",
        "colab": {
          "base_uri": "https://localhost:8080/"
        },
        "outputId": "77a876be-5953-42d4-d59e-80aaab1e6747"
      },
      "outputs": [
        {
          "output_type": "stream",
          "name": "stdout",
          "text": [
            "dict_keys(['loss', 'accuracy', 'val_loss', 'val_accuracy'])\n"
          ]
        }
      ],
      "source": [
        "print(history1.history.keys())"
      ]
    },
    {
      "cell_type": "code",
      "execution_count": null,
      "metadata": {
        "colab": {
          "base_uri": "https://localhost:8080/",
          "height": 503
        },
        "id": "NPh-Oi5rDl5p",
        "outputId": "fbe5f36c-083e-429a-e437-3b04d5b6815c"
      },
      "outputs": [
        {
          "output_type": "execute_result",
          "data": {
            "text/plain": [
              "<matplotlib.legend.Legend at 0x7f1900bfa500>"
            ]
          },
          "metadata": {},
          "execution_count": 22
        },
        {
          "output_type": "display_data",
          "data": {
            "text/plain": [
              "<Figure size 900x500 with 2 Axes>"
            ],
            "image/png": "[encoded data removed]"
          },
          "metadata": {}
        },
        {
          "output_type": "display_data",
          "data": {
            "text/plain": [
              "<Figure size 800x1000 with 0 Axes>"
            ]
          },
          "metadata": {}
        }
      ],
      "source": [
        "fig,ax=plt.subplots(1,2,sharey=True,figsize=(9,5))\n",
        "fig=plt.figure(figsize=(8,10))\n",
        "\n",
        "ax[0].plot(pd.DataFrame(history1.history['accuracy']))\n",
        "ax[0].plot(pd.DataFrame(history1.history['val_accuracy']))\n",
        "ax[0].set_title('Accuracy')\n",
        "ax[0].legend(['train','test'])\n",
        "\n",
        "ax[1].plot(pd.DataFrame(history1.history['loss']))\n",
        "ax[1].plot(pd.DataFrame(history1.history['val_loss']))\n",
        "ax[1].set_title('Loss')\n",
        "ax[1].legend(['train','test'])"
      ]
    },
    {
      "cell_type": "code",
      "execution_count": null,
      "metadata": {
        "id": "Sm30IJIbDrj5",
        "colab": {
          "base_uri": "https://localhost:8080/"
        },
        "outputId": "241f106c-c1ce-483c-a8e2-3e015127126a"
      },
      "outputs": [
        {
          "output_type": "stream",
          "name": "stdout",
          "text": [
            "Model: \"sequential_1\"\n",
            "_________________________________________________________________\n",
            " Layer (type)                Output Shape              Param #   \n",
            "=================================================================\n",
            " embedding_1 (Embedding)     (None, 7, 32)             160000    \n",
            "                                                                 \n",
            " dropout_1 (Dropout)         (None, 7, 32)             0         \n",
            "                                                                 \n",
            " conv1d (Conv1D)             (None, 7, 32)             3104      \n",
            "                                                                 \n",
            " max_pooling1d (MaxPooling1  (None, 3, 32)             0         \n",
            " D)                                                              \n",
            "                                                                 \n",
            " dropout_2 (Dropout)         (None, 3, 32)             0         \n",
            "                                                                 \n",
            " bidirectional_1 (Bidirecti  (None, 64)                16640     \n",
            " onal)                                                           \n",
            "                                                                 \n",
            " dropout_3 (Dropout)         (None, 64)                0         \n",
            "                                                                 \n",
            " dense_1 (Dense)             (None, 4)                 260       \n",
            "                                                                 \n",
            "=================================================================\n",
            "Total params: 180004 (703.14 KB)\n",
            "Trainable params: 180004 (703.14 KB)\n",
            "Non-trainable params: 0 (0.00 Byte)\n",
            "_________________________________________________________________\n",
            "None\n",
            "Epoch 1/30\n",
            "8/8 [==============================] - 8s 21ms/step - loss: 0.1973 - accuracy: 0.0926 - precision: 0.0000e+00 - recall: 0.0000e+00\n",
            "Epoch 2/30\n",
            "8/8 [==============================] - 0s 25ms/step - loss: 0.1954 - accuracy: 0.0526 - precision: 0.0000e+00 - recall: 0.0000e+00\n",
            "Epoch 3/30\n",
            "8/8 [==============================] - 0s 22ms/step - loss: 0.1929 - accuracy: 0.0632 - precision: 0.0000e+00 - recall: 0.0000e+00\n",
            "Epoch 4/30\n",
            "8/8 [==============================] - 0s 27ms/step - loss: 0.1882 - accuracy: 0.0653 - precision: 0.0000e+00 - recall: 0.0000e+00\n",
            "Epoch 5/30\n",
            "8/8 [==============================] - 0s 21ms/step - loss: 0.1902 - accuracy: 0.0421 - precision: 0.0000e+00 - recall: 0.0000e+00\n",
            "Epoch 6/30\n",
            "8/8 [==============================] - 0s 25ms/step - loss: 0.1807 - accuracy: 0.0611 - precision: 0.0357 - recall: 0.0294\n",
            "Epoch 7/30\n",
            "8/8 [==============================] - 0s 18ms/step - loss: 0.1847 - accuracy: 0.0674 - precision: 0.0584 - recall: 0.1176\n",
            "Epoch 8/30\n",
            "8/8 [==============================] - 0s 21ms/step - loss: 0.1893 - accuracy: 0.1011 - precision: 0.0669 - recall: 0.2353\n",
            "Epoch 9/30\n",
            "8/8 [==============================] - 0s 18ms/step - loss: 0.2084 - accuracy: 0.0968 - precision: 0.0489 - recall: 0.1618\n",
            "Epoch 10/30\n",
            "8/8 [==============================] - 0s 20ms/step - loss: 0.2292 - accuracy: 0.0968 - precision: 0.0309 - recall: 0.1176\n",
            "Epoch 11/30\n",
            "8/8 [==============================] - 0s 18ms/step - loss: 0.2334 - accuracy: 0.1137 - precision: 0.0447 - recall: 0.1912\n",
            "Epoch 12/30\n",
            "8/8 [==============================] - 0s 20ms/step - loss: 0.2132 - accuracy: 0.1263 - precision: 0.0661 - recall: 0.2500\n",
            "Epoch 13/30\n",
            "8/8 [==============================] - 0s 20ms/step - loss: 0.1877 - accuracy: 0.1200 - precision: 0.0730 - recall: 0.2941\n",
            "Epoch 14/30\n",
            "8/8 [==============================] - 0s 21ms/step - loss: 0.2228 - accuracy: 0.1158 - precision: 0.0730 - recall: 0.2941\n",
            "Epoch 15/30\n",
            "8/8 [==============================] - 0s 19ms/step - loss: 0.2261 - accuracy: 0.0863 - precision: 0.0512 - recall: 0.2206\n",
            "Epoch 16/30\n",
            "8/8 [==============================] - 0s 21ms/step - loss: 0.2098 - accuracy: 0.1074 - precision: 0.0639 - recall: 0.2500\n",
            "Epoch 17/30\n",
            "8/8 [==============================] - 0s 19ms/step - loss: 0.1961 - accuracy: 0.0968 - precision: 0.0657 - recall: 0.2647\n",
            "Epoch 18/30\n",
            "8/8 [==============================] - 0s 23ms/step - loss: 0.2209 - accuracy: 0.1053 - precision: 0.0489 - recall: 0.2206\n",
            "Epoch 19/30\n",
            "8/8 [==============================] - 0s 23ms/step - loss: 0.2249 - accuracy: 0.1032 - precision: 0.0459 - recall: 0.1912\n",
            "Epoch 20/30\n",
            "8/8 [==============================] - 0s 20ms/step - loss: 0.2000 - accuracy: 0.1221 - precision: 0.0476 - recall: 0.1912\n",
            "Epoch 21/30\n",
            "8/8 [==============================] - 0s 23ms/step - loss: 0.2042 - accuracy: 0.0863 - precision: 0.0500 - recall: 0.2059\n",
            "Epoch 22/30\n",
            "8/8 [==============================] - 0s 22ms/step - loss: 0.2590 - accuracy: 0.0926 - precision: 0.0383 - recall: 0.1618\n",
            "Epoch 23/30\n",
            "8/8 [==============================] - 0s 17ms/step - loss: 0.2139 - accuracy: 0.1011 - precision: 0.0414 - recall: 0.1618\n",
            "Epoch 24/30\n",
            "8/8 [==============================] - 0s 22ms/step - loss: 0.2306 - accuracy: 0.1116 - precision: 0.0469 - recall: 0.1912\n",
            "Epoch 25/30\n",
            "8/8 [==============================] - 0s 24ms/step - loss: 0.1883 - accuracy: 0.1158 - precision: 0.0799 - recall: 0.3676\n",
            "Epoch 26/30\n",
            "8/8 [==============================] - 0s 19ms/step - loss: 0.2163 - accuracy: 0.0926 - precision: 0.0582 - recall: 0.2500\n",
            "Epoch 27/30\n",
            "8/8 [==============================] - 0s 18ms/step - loss: 0.2073 - accuracy: 0.1158 - precision: 0.0714 - recall: 0.2941\n",
            "Epoch 28/30\n",
            "8/8 [==============================] - 0s 22ms/step - loss: 0.2078 - accuracy: 0.1074 - precision: 0.0699 - recall: 0.2794\n",
            "Epoch 29/30\n",
            "8/8 [==============================] - 0s 25ms/step - loss: 0.2130 - accuracy: 0.1053 - precision: 0.0530 - recall: 0.2206\n",
            "Epoch 30/30\n",
            "8/8 [==============================] - 0s 22ms/step - loss: 0.2253 - accuracy: 0.0926 - precision: 0.0481 - recall: 0.2059\n"
          ]
        }
      ],
      "source": [
        "from keras.models import Sequential\n",
        "from keras.layers import Embedding, Conv1D, MaxPooling1D, Bidirectional, LSTM, Dense, Dropout\n",
        "from keras.metrics import Precision, Recall\n",
        "# from tf.keras.optimizers import SGD\n",
        "# from keras.optimizers import RMSprop\n",
        "from keras import datasets\n",
        "\n",
        "from keras.callbacks import LearningRateScheduler\n",
        "from keras.callbacks import History\n",
        "\n",
        "from keras import losses\n",
        "\n",
        "vocab_size = 5000\n",
        "embedding_size = 32\n",
        "epochs=30\n",
        "learning_rate = 0.1\n",
        "decay_rate = learning_rate / epochs\n",
        "momentum = 0.8\n",
        "\n",
        "# sgd = SGD(lr=learning_rate, momentum=momentum, decay=decay_rate, nesterov=False)\n",
        "# Build model\n",
        "model= Sequential()\n",
        "model.add(Embedding(vocab_size, embedding_size, input_length=7))\n",
        "model.add(Dropout(0.4))\n",
        "model.add(Conv1D(filters=32, kernel_size=3, padding='same', activation='relu'))\n",
        "model.add(MaxPooling1D(pool_size=2))\n",
        "model.add(Dropout(0.4))\n",
        "model.add(Bidirectional(LSTM(32)))\n",
        "model.add(Dropout(0.4))\n",
        "model.add(Dense(4, activation='softmax')) #change value accorind to y train value like 3 or 4 or 5\n",
        "import tensorflow as tf\n",
        "tf.keras.utils.plot_model(model, show_shapes=True)\n",
        "\n",
        "print(model.summary())\n",
        "\n",
        "# Compile model\n",
        "model.compile(loss='categorical_crossentropy', optimizer='adam',\n",
        "               metrics=['accuracy', Precision(), Recall()])\n",
        "\n",
        "# Train model\n",
        "\n",
        "batch_size = 64\n",
        "history = model.fit( x_train, y_train,batch_size=batch_size, epochs=epochs, verbose=1)"
      ]
    },
    {
      "cell_type": "code",
      "source": [
        "model1.compile(loss='categorical_crossentropy',\n",
        "              optimizer='adam',\n",
        "              metrics=['accuracy', tf.keras.metrics.Precision(), tf.keras.metrics.Recall()])\n"
      ],
      "metadata": {
        "id": "OU2-cKYGZW9-"
      },
      "execution_count": null,
      "outputs": []
    },
    {
      "cell_type": "code",
      "execution_count": null,
      "metadata": {
        "id": "x62q1FTFDvbT",
        "colab": {
          "base_uri": "https://localhost:8080/",
          "height": 410
        },
        "outputId": "5fd5efd3-0312-4057-b9ed-d7334078c04c"
      },
      "outputs": [
        {
          "output_type": "display_data",
          "data": {
            "text/plain": [
              "<Figure size 1000x400 with 2 Axes>"
            ],
            "image/png": "[encoded data removed]"
          },
          "metadata": {}
        }
      ],
      "source": [
        "import matplotlib.pyplot as plt\n",
        "import tensorflow as tf\n",
        "\n",
        "def plot_training_hist(history):\n",
        "    '''Function to plot history for accuracy and loss'''\n",
        "\n",
        "    fig, ax = plt.subplots(1, 2, figsize=(10, 4))\n",
        "\n",
        "    # Plot accuracy and validation accuracy\n",
        "    ax[0].plot(history.history['accuracy'])\n",
        "    ax[0].plot(history.history['val_accuracy'])\n",
        "    ax[0].set_title('Model Accuracy')\n",
        "    ax[0].set_xlabel('epoch')\n",
        "    ax[0].set_ylabel('accuracy')\n",
        "    ax[0].legend(['train', 'validation'], loc='best')\n",
        "\n",
        "    # Plot loss and validation loss\n",
        "    ax[1].plot(history.history['loss'])\n",
        "    ax[1].plot(history.history['val_loss'])\n",
        "    ax[1].set_title('Model Loss')\n",
        "    ax[1].set_xlabel('epoch')\n",
        "    ax[1].set_ylabel('loss')\n",
        "    ax[1].legend(['train', 'validation'], loc='best')\n",
        "\n",
        "# Assuming history1 contains training history\n",
        "plot_training_hist(history1)\n"
      ]
    },
    {
      "cell_type": "markdown",
      "source": [
        "#Prediction"
      ],
      "metadata": {
        "id": "4UEpsX2feSg6"
      }
    },
    {
      "cell_type": "code",
      "execution_count": null,
      "metadata": {
        "id": "i-CdolDBDzFl"
      },
      "outputs": [],
      "source": [
        "def predict_class(text):\n",
        "    '''Function to predict sentiment class of the passed text'''\n",
        "\n",
        "    sentiment_classes = ['Negative', 'Neutral', 'Positive']\n",
        "    max_len=7\n",
        "\n",
        "    # Transforms text to a sequence of integers using a tokenizer object\n",
        "    xt = tokenize.texts_to_sequences(text)\n",
        "    # Pad sequences to the same length\n",
        "    xt = pad_sequences(xt, padding='post', maxlen=max_len)\n",
        "    # Do the prediction using the loaded model\n",
        "    yt = model.predict(xt).argmax(axis=1)\n",
        "    # Print the predicted sentiment\n",
        "    print('The predicted sentiment is', sentiment_classes[yt[0]])"
      ]
    },
    {
      "cell_type": "markdown",
      "source": [
        "#Confusion Matrix"
      ],
      "metadata": {
        "id": "lBOQ4EuqeYtW"
      }
    },
    {
      "cell_type": "code",
      "source": [
        "from sklearn.metrics import confusion_matrix\n",
        "import seaborn as sns\n",
        "def plot_confusion_matrix(x_test,y_test):\n",
        "  sentiment_classes = ['Negative', 'Neutral', 'Positive']\n",
        "  y_pred=model.predict(x_test)\n",
        "  cm=confusion_matrix(np.argmax(y_pred,axis=1),np.argmax(np.array(y_test),axis=1))\n",
        "  plt.figure(figsize=(8,6))\n",
        "  sns.heatmap(cm, cmap=plt.cm.Blues, annot=True, fmt='d',\n",
        "                xticklabels=sentiment_classes,\n",
        "                yticklabels=sentiment_classes)\n",
        "  plt.title('Confusion matrix', fontsize=16)\n",
        "  plt.xlabel('Actual label', fontsize=12)\n",
        "  plt.ylabel('Predicted label', fontsize=12)\n",
        "  # # print(np.argmax(y_pred,axis=1))\n",
        "  # print(sentiment[np.argmax(y_pred,axis=1)])\n",
        "plot_confusion_matrix(x_val,y_val)"
      ],
      "metadata": {
        "colab": {
          "base_uri": "https://localhost:8080/",
          "height": 587
        },
        "id": "Wh1_grr9Z3O2",
        "outputId": "c58a4cf5-0ebb-42c3-9b4c-f22bec3ebdb5"
      },
      "execution_count": null,
      "outputs": [
        {
          "output_type": "stream",
          "name": "stdout",
          "text": [
            "2/2 [==============================] - 0s 8ms/step\n"
          ]
        },
        {
          "output_type": "display_data",
          "data": {
            "text/plain": [
              "<Figure size 800x600 with 2 Axes>"
            ],
            "image/png": "[encoded data removed]"
          },
          "metadata": {}
        }
      ]
    }
  ],
  "metadata": {
    "colab": {
      "provenance": []
    },
    "kernelspec": {
      "display_name": "Python 3",
      "name": "python3"
    },
    "language_info": {
      "name": "python"
    }
  },
  "nbformat": 4,
  "nbformat_minor": 0
}